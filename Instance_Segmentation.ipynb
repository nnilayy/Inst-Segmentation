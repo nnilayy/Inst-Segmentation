{
  "nbformat": 4,
  "nbformat_minor": 0,
  "metadata": {
    "colab": {
      "provenance": [],
      "authorship_tag": "ABX9TyPodDrEDz0AQccraWESsc5/",
      "include_colab_link": true
    },
    "kernelspec": {
      "name": "python3",
      "display_name": "Python 3"
    },
    "language_info": {
      "name": "python"
    }
  },
  "cells": [
    {
      "cell_type": "markdown",
      "metadata": {
        "id": "view-in-github",
        "colab_type": "text"
      },
      "source": [
        "<a href=\"https://colab.research.google.com/github/nnilayy/Instance-Segmentation/blob/main/Instance_Segmentation.ipynb\" target=\"_parent\"><img src=\"https://colab.research.google.com/assets/colab-badge.svg\" alt=\"Open In Colab\"/></a>"
      ]
    },
    {
      "cell_type": "code",
      "source": [
        "# Check nvcc version\n",
        "!nvcc --version\n",
        "# Check GCC version\n",
        "!gcc --version  \n",
        "# Check graphics card version \n",
        "!nvidia-smi  "
      ],
      "metadata": {
        "id": "Vc87CE6zROLZ"
      },
      "execution_count": null,
      "outputs": []
    },
    {
      "cell_type": "code",
      "source": [
        "import torch, torchvision\n",
        "import mmdet\n",
        "from mmcv.ops import get_compiling_cuda_version, get_compiler_version\n",
        "print(\"Torch Version: \",torch.__version__) \n",
        "print(\"mmdet Verion: \",mmdet.__version__)\n",
        "print(\"Is Cuda Available: \",torch.cuda.is_available()) \n",
        "print(\"Cuda Version: \",get_compiling_cuda_version())\n",
        "print(\"GCC version: \",get_compiler_version())"
      ],
      "metadata": {
        "id": "xZbPWw--RQ3m"
      },
      "execution_count": null,
      "outputs": []
    },
    {
      "cell_type": "markdown",
      "source": [
        "##INSTALL MMCV AND MMDETECTION"
      ],
      "metadata": {
        "id": "xt9RBe9x-EKN"
      }
    },
    {
      "cell_type": "code",
      "source": [
        "# install mmcv\n",
        "!pip install openmim\n",
        "!mim install mmcv-full\n",
        "\n",
        "# install mmdetection\n",
        "!git clone https://github.com/open-mmlab/mmdetection.git\n",
        "%cd mmdetection\n",
        "!pip install -e ."
      ],
      "metadata": {
        "id": "ZYl2TfdBROP4"
      },
      "execution_count": null,
      "outputs": []
    },
    {
      "cell_type": "markdown",
      "source": [
        "##DOWNLOAD MODEL WEIGHTS"
      ],
      "metadata": {
        "id": "WPzQNFvC-Ptx"
      }
    },
    {
      "cell_type": "code",
      "source": [
        "!mkdir checkpoints\n",
        "link=\"https://download.openmmlab.com/mmdetection/v2.0/solov2/solov2_light_r18_fpn_3x_coco/solov2_light_r18_fpn_3x_coco_20220511_083717-75fa355b.pth\"\n",
        "model_name=\"solov2_light_r18_fpn_3x_coco_solov2_light_r18_fpn_3x_coco_20220511_083717-75fa355b\"\n",
        "checkpoint_file=\"/content/mmdetection/checkpoints/\"\n",
        "!wget -c \"{link}\" -O \"{checkpoint_file}/{model_name}.pth\"  "
      ],
      "metadata": {
        "id": "w1pYIK5VRUra"
      },
      "execution_count": null,
      "outputs": []
    }
  ]
}