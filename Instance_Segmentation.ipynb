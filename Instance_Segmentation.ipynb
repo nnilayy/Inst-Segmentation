{
  "nbformat": 4,
  "nbformat_minor": 0,
  "metadata": {
    "colab": {
      "provenance": [],
      "authorship_tag": "ABX9TyNd6fUmOOoETqHBZ3hDY3Pb",
      "include_colab_link": true
    },
    "kernelspec": {
      "name": "python3",
      "display_name": "Python 3"
    },
    "language_info": {
      "name": "python"
    }
  },
  "cells": [
    {
      "cell_type": "markdown",
      "metadata": {
        "id": "view-in-github",
        "colab_type": "text"
      },
      "source": [
        "<a href=\"https://colab.research.google.com/github/nnilayy/Instance-Segmentation/blob/main/Instance_Segmentation.ipynb\" target=\"_parent\"><img src=\"https://colab.research.google.com/assets/colab-badge.svg\" alt=\"Open In Colab\"/></a>"
      ]
    },
    {
      "cell_type": "code",
      "source": [
        "# Check nvcc version\n",
        "!nvcc --version\n",
        "# Check GCC version\n",
        "!gcc --version  \n",
        "# Check graphics card version \n",
        "!nvidia-smi  "
      ],
      "metadata": {
        "id": "Vc87CE6zROLZ"
      },
      "execution_count": null,
      "outputs": []
    },
    {
      "cell_type": "code",
      "source": [
        "import torch, torchvision\n",
        "import mmdet\n",
        "from mmcv.ops import get_compiling_cuda_version, get_compiler_version\n",
        "print(\"Torch Version: \",torch.__version__) \n",
        "print(\"mmdet Verion: \",mmdet.__version__)\n",
        "print(\"Is Cuda Available: \",torch.cuda.is_available()) \n",
        "print(\"Cuda Version: \",get_compiling_cuda_version())\n",
        "print(\"GCC version: \",get_compiler_version())"
      ],
      "metadata": {
        "id": "xZbPWw--RQ3m"
      },
      "execution_count": null,
      "outputs": []
    },
    {
      "cell_type": "markdown",
      "source": [
        "##INSTALL MMCV AND MMDETECTION"
      ],
      "metadata": {
        "id": "xt9RBe9x-EKN"
      }
    },
    {
      "cell_type": "code",
      "source": [
        "# install mmcv\n",
        "!pip install openmim\n",
        "!mim install mmcv-full\n",
        "\n",
        "# install mmdetection\n",
        "!git clone https://github.com/open-mmlab/mmdetection.git\n",
        "%cd mmdetection\n",
        "!pip install -e ."
      ],
      "metadata": {
        "id": "ZYl2TfdBROP4"
      },
      "execution_count": null,
      "outputs": []
    },
    {
      "cell_type": "markdown",
      "source": [
        "##DOWNLOAD MODEL WEIGHTS"
      ],
      "metadata": {
        "id": "WPzQNFvC-Ptx"
      }
    },
    {
      "cell_type": "code",
      "source": [
        "!mkdir checkpoints\n",
        "link=\"https://download.openmmlab.com/mmdetection/v2.0/solov2/solov2_light_r18_fpn_3x_coco/solov2_light_r18_fpn_3x_coco_20220511_083717-75fa355b.pth\"\n",
        "model_name=\"solov2_light_r18_fpn_3x_coco_solov2_light_r18_fpn_3x_coco_20220511_083717-75fa355b\"\n",
        "checkpoint_file=\"/content/mmdetection/checkpoints/\"\n",
        "!wget -c \"{link}\" -O \"{checkpoint_file}/{model_name}.pth\"  "
      ],
      "metadata": {
        "id": "w1pYIK5VRUra"
      },
      "execution_count": null,
      "outputs": []
    },
    {
      "cell_type": "markdown",
      "source": [
        "##TESTING THE MODEL"
      ],
      "metadata": {
        "id": "h3wc5bB4-yBV"
      }
    },
    {
      "cell_type": "code",
      "source": [
        "import mmcv\n",
        "from mmcv.runner import load_checkpoint\n",
        "from mmdet.apis import inference_detector, show_result_pyplot\n",
        "from mmdet.models import build_detector\n",
        "from mmdet.utils import get_device\n",
        "\n",
        "config = '/content/mmdetection/configs/mask_rcnn/mask_rcnn_r50_caffe_fpn_mstrain-poly_3x_coco.py'\n",
        "cfg = mmcv.Config.fromfile(config)\n",
        "\n",
        "# Setup a checkpoint file to load\n",
        "checkpoint = \"/content/mmdetection/tutorial_exps/latest.pth\"\n",
        "\n",
        "# Setting up model\n",
        "model = build_detector(cfg.model)\n",
        "checkpoint = load_checkpoint(model, checkpoint, map_location=get_device())\n",
        "model.CLASSES = checkpoint['meta']['CLASSES']\n",
        "model.cfg = cfg\n",
        "model.to(get_device())\n",
        "model.eval()\n",
        "\n",
        "print(f'Config:\\n{checkpoint}')"
      ],
      "metadata": {
        "id": "buFtaCRsRYx_"
      },
      "execution_count": null,
      "outputs": []
    },
    {
      "cell_type": "code",
      "source": [
        "# Use the detector to do inference\n",
        "img = 'demo/demo.jpg'\n",
        "result = inference_detector(model, img)\n",
        "show_result_pyplot(model, img, result, score_thr=0.0)"
      ],
      "metadata": {
        "id": "F44nAyHwRZas"
      },
      "execution_count": null,
      "outputs": []
    },
    {
      "cell_type": "code",
      "source": [
        "# download and unzip the data\n",
        "!wget https://github.com/matterport/Mask_RCNN/releases/download/v2.1/balloon_dataset.zip\n",
        "!unzip balloon_dataset.zip > /dev/null"
      ],
      "metadata": {
        "id": "Y6z76RxORe_6"
      },
      "execution_count": null,
      "outputs": []
    },
    {
      "cell_type": "code",
      "source": [
        "# Let's take a look at the dataset image\n",
        "import mmcv\n",
        "import matplotlib.pyplot as plt\n",
        "\n",
        "img = mmcv.imread('balloon/train/10464445726_6f1e3bbe6a_k.jpg')\n",
        "plt.figure(figsize=(15, 10))\n",
        "plt.imshow(mmcv.bgr2rgb(img))\n",
        "plt.show()"
      ],
      "metadata": {
        "id": "q5Fks2piRkXe"
      },
      "execution_count": null,
      "outputs": []
    },
    {
      "cell_type": "markdown",
      "source": [
        "##CONVERTING DATASET TO COCO-JSON FORMAT"
      ],
      "metadata": {
        "id": "XZhh5yFi9Efh"
      }
    },
    {
      "cell_type": "code",
      "source": [
        "import os.path as osp\n",
        "\n",
        "def convert_balloon_to_coco(ann_file, out_file, image_prefix):\n",
        "    data_infos = mmcv.load(ann_file)\n",
        "\n",
        "    annotations = []\n",
        "    images = []\n",
        "    obj_count = 0\n",
        "    for idx, v in enumerate(mmcv.track_iter_progress(data_infos.values())):\n",
        "        filename = v['filename']\n",
        "        img_path = osp.join(image_prefix, filename)\n",
        "        height, width = mmcv.imread(img_path).shape[:2]\n",
        "\n",
        "        images.append(dict(\n",
        "            id=idx,\n",
        "            file_name=filename,\n",
        "            height=height,\n",
        "            width=width))\n",
        "\n",
        "        bboxes = []\n",
        "        labels = []\n",
        "        masks = []\n",
        "        for _, obj in v['regions'].items():\n",
        "            assert not obj['region_attributes']\n",
        "            obj = obj['shape_attributes']\n",
        "            px = obj['all_points_x']\n",
        "            py = obj['all_points_y']\n",
        "            poly = [(x + 0.5, y + 0.5) for x, y in zip(px, py)]\n",
        "            poly = [p for x in poly for p in x]\n",
        "\n",
        "            x_min, y_min, x_max, y_max = (\n",
        "                min(px), min(py), max(px), max(py))\n",
        "\n",
        "\n",
        "            data_anno = dict(\n",
        "                image_id=idx,\n",
        "                id=obj_count,\n",
        "                category_id=0,\n",
        "                bbox=[x_min, y_min, x_max - x_min, y_max - y_min],\n",
        "                area=(x_max - x_min) * (y_max - y_min),\n",
        "                segmentation=[poly],\n",
        "                iscrowd=0)\n",
        "            annotations.append(data_anno)\n",
        "            obj_count += 1\n",
        "\n",
        "    coco_format_json = dict(\n",
        "        images=images,\n",
        "        annotations=annotations,\n",
        "        categories=[{'id':0, 'name': 'balloon'}])\n",
        "    mmcv.dump(coco_format_json, out_file)"
      ],
      "metadata": {
        "id": "8porHE1SRxkU"
      },
      "execution_count": null,
      "outputs": []
    },
    {
      "cell_type": "code",
      "source": [
        "convert_balloon_to_coco(\n",
        "    'balloon/train/via_region_data.json',\n",
        "    'balloon/train/annotation_coco.json',\n",
        "    'balloon/train/')\n",
        "convert_balloon_to_coco(\n",
        "    'balloon/val/via_region_data.json',\n",
        "    'balloon/val/annotation_coco.json',\n",
        "    'balloon/val/')"
      ],
      "metadata": {
        "id": "3SFvCurDRyea"
      },
      "execution_count": null,
      "outputs": []
    },
    {
      "cell_type": "markdown",
      "source": [
        "##IMPORTING DEPENDENCIES"
      ],
      "metadata": {
        "id": "v3XHwcw43wiu"
      }
    },
    {
      "cell_type": "code",
      "source": [
        "from mmcv import Config\n",
        "from mmdet.apis import set_random_seed\n",
        "from mmdet.datasets import build_dataset\n",
        "from mmdet.models import build_detector\n",
        "from mmdet.apis import train_detector\n",
        "from mmdet.utils import get_device\n",
        "from mmdet.apis import inference_detector, show_result_pyplot"
      ],
      "metadata": {
        "id": "3mfWrde43tP_"
      },
      "execution_count": null,
      "outputs": []
    },
    {
      "cell_type": "markdown",
      "source": [
        "##CHANGE THE CONFIG FILE \n",
        "\n",
        "* Get any model configs from this link: /content/mmdetection/configs\n"
      ],
      "metadata": {
        "id": "9gI9jludzLa8"
      }
    },
    {
      "cell_type": "code",
      "source": [
        "config='/content/mmdetection/configs/solov2/solov2_light_r18_fpn_3x_coco.py'\n",
        "cfg = Config.fromfile(config)\n",
        "# USE THE MODEL FILES TO TRAIN BETTER AND QUICKER\n",
        "cfg.load_from = \"/content/mmdetection/checkpoints/solov2_light_r18_fpn_3x_coco_solov2_light_r18_fpn_3x_coco_20220511_083717-75fa355b.pth\"\n",
        "print(f'Config:\\n{cfg.pretty_text}')"
      ],
      "metadata": {
        "id": "X0nMk4Vny3MT"
      },
      "execution_count": null,
      "outputs": []
    }
  ]
}