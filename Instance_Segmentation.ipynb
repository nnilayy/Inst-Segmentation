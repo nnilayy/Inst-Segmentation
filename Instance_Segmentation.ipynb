{
  "nbformat": 4,
  "nbformat_minor": 0,
  "metadata": {
    "colab": {
      "provenance": [],
      "authorship_tag": "ABX9TyMcRSW37pYaftnVvVR34mSL",
      "include_colab_link": true
    },
    "kernelspec": {
      "name": "python3",
      "display_name": "Python 3"
    },
    "language_info": {
      "name": "python"
    }
  },
  "cells": [
    {
      "cell_type": "markdown",
      "metadata": {
        "id": "view-in-github",
        "colab_type": "text"
      },
      "source": [
        "<a href=\"https://colab.research.google.com/github/nnilayy/Instance-Segmentation/blob/main/Instance_Segmentation.ipynb\" target=\"_parent\"><img src=\"https://colab.research.google.com/assets/colab-badge.svg\" alt=\"Open In Colab\"/></a>"
      ]
    },
    {
      "cell_type": "code",
      "source": [
        "# Check nvcc version\n",
        "!nvcc --version\n",
        "# Check GCC version\n",
        "!gcc --version  \n",
        "# Check graphics card version \n",
        "!nvidia-smi  "
      ],
      "metadata": {
        "id": "Vc87CE6zROLZ"
      },
      "execution_count": null,
      "outputs": []
    },
    {
      "cell_type": "code",
      "source": [
        "import torch, torchvision\n",
        "import mmdet\n",
        "from mmcv.ops import get_compiling_cuda_version, get_compiler_version\n",
        "print(\"Torch Version: \",torch.__version__) \n",
        "print(\"mmdet Verion: \",mmdet.__version__)\n",
        "print(\"Is Cuda Available: \",torch.cuda.is_available()) \n",
        "print(\"Cuda Version: \",get_compiling_cuda_version())\n",
        "print(\"GCC version: \",get_compiler_version())"
      ],
      "metadata": {
        "id": "xZbPWw--RQ3m"
      },
      "execution_count": null,
      "outputs": []
    },
    {
      "cell_type": "markdown",
      "source": [
        "##INSTALL MMCV AND MMDETECTION"
      ],
      "metadata": {
        "id": "xt9RBe9x-EKN"
      }
    },
    {
      "cell_type": "code",
      "source": [
        "# install mmcv\n",
        "!pip install openmim\n",
        "!mim install mmcv-full\n",
        "\n",
        "# install mmdetection\n",
        "!git clone https://github.com/open-mmlab/mmdetection.git\n",
        "%cd mmdetection\n",
        "!pip install -e ."
      ],
      "metadata": {
        "id": "ZYl2TfdBROP4"
      },
      "execution_count": null,
      "outputs": []
    },
    {
      "cell_type": "markdown",
      "source": [
        "##DOWNLOAD MODEL WEIGHTS"
      ],
      "metadata": {
        "id": "WPzQNFvC-Ptx"
      }
    },
    {
      "cell_type": "code",
      "source": [
        "!mkdir checkpoints\n",
        "link=\"https://download.openmmlab.com/mmdetection/v2.0/solov2/solov2_light_r18_fpn_3x_coco/solov2_light_r18_fpn_3x_coco_20220511_083717-75fa355b.pth\"\n",
        "model_name=\"solov2_light_r18_fpn_3x_coco_solov2_light_r18_fpn_3x_coco_20220511_083717-75fa355b\"\n",
        "checkpoint_file=\"/content/mmdetection/checkpoints/\"\n",
        "!wget -c \"{link}\" -O \"{checkpoint_file}/{model_name}.pth\"  "
      ],
      "metadata": {
        "id": "w1pYIK5VRUra"
      },
      "execution_count": null,
      "outputs": []
    },
    {
      "cell_type": "markdown",
      "source": [
        "##TESTING THE MODEL"
      ],
      "metadata": {
        "id": "h3wc5bB4-yBV"
      }
    },
    {
      "cell_type": "code",
      "source": [
        "import mmcv\n",
        "from mmcv.runner import load_checkpoint\n",
        "from mmdet.apis import inference_detector, show_result_pyplot\n",
        "from mmdet.models import build_detector\n",
        "from mmdet.utils import get_device\n",
        "\n",
        "config = '/content/mmdetection/configs/mask_rcnn/mask_rcnn_r50_caffe_fpn_mstrain-poly_3x_coco.py'\n",
        "cfg = mmcv.Config.fromfile(config)\n",
        "\n",
        "# Setup a checkpoint file to load\n",
        "checkpoint = \"/content/mmdetection/tutorial_exps/latest.pth\"\n",
        "\n",
        "# Setting up model\n",
        "model = build_detector(cfg.model)\n",
        "checkpoint = load_checkpoint(model, checkpoint, map_location=get_device())\n",
        "model.CLASSES = checkpoint['meta']['CLASSES']\n",
        "model.cfg = cfg\n",
        "model.to(get_device())\n",
        "model.eval()"
      ],
      "metadata": {
        "id": "buFtaCRsRYx_"
      },
      "execution_count": null,
      "outputs": []
    }
  ]
}